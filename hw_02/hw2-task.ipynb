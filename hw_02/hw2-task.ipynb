{
 "cells": [
  {
   "cell_type": "markdown",
   "metadata": {},
   "source": [
    "# SkillFactory\n",
    "## Введение в ML, введение в sklearn"
   ]
  },
  {
   "cell_type": "markdown",
   "metadata": {},
   "source": [
    "В этом задании мы с вами рассмотрим данные с конкурса [Задача предсказания отклика клиентов ОТП Банка](http://www.machinelearning.ru/wiki/index.php?title=%D0%97%D0%B0%D0%B4%D0%B0%D1%87%D0%B0_%D0%BF%D1%80%D0%B5%D0%B4%D1%81%D0%BA%D0%B0%D0%B7%D0%B0%D0%BD%D0%B8%D1%8F_%D0%BE%D1%82%D0%BA%D0%BB%D0%B8%D0%BA%D0%B0_%D0%BA%D0%BB%D0%B8%D0%B5%D0%BD%D1%82%D0%BE%D0%B2_%D0%9E%D0%A2%D0%9F_%D0%91%D0%B0%D0%BD%D0%BA%D0%B0_%28%D0%BA%D0%BE%D0%BD%D0%BA%D1%83%D1%80%D1%81%29)"
   ]
  },
  {
   "cell_type": "code",
   "execution_count": 1,
   "metadata": {
    "collapsed": true
   },
   "outputs": [],
   "source": [
    "import pandas as pd\n",
    "import numpy as np\n",
    "import matplotlib.pyplot as plt\n",
    "\n",
    "%matplotlib inline\n",
    "\n",
    "plt.style.use('ggplot')\n",
    "plt.rcParams['figure.figsize'] = (12,5)"
   ]
  },
  {
   "cell_type": "code",
   "execution_count": 2,
   "metadata": {
    "collapsed": true
   },
   "outputs": [],
   "source": [
    "# Написал небольшую функцию для удобства\n",
    "def get_descr(name):\n",
    "    return df_descr[df_descr['ПОЛЕ']==name]['ОПИСАНИЕ'].values[0]"
   ]
  },
  {
   "cell_type": "markdown",
   "metadata": {},
   "source": [
    "### Грузим данные"
   ]
  },
  {
   "cell_type": "markdown",
   "metadata": {},
   "source": [
    "Считаем описание данных"
   ]
  },
  {
   "cell_type": "code",
   "execution_count": 3,
   "metadata": {
    "collapsed": true
   },
   "outputs": [],
   "source": [
    "\n",
    "df_descr = pd.read_csv('data/otp_description.csv', sep='\\t', encoding='utf8')"
   ]
  },
  {
   "cell_type": "code",
   "execution_count": 4,
   "metadata": {},
   "outputs": [
    {
     "data": {
      "text/html": [
       "<div>\n",
       "<style>\n",
       "    .dataframe thead tr:only-child th {\n",
       "        text-align: right;\n",
       "    }\n",
       "\n",
       "    .dataframe thead th {\n",
       "        text-align: left;\n",
       "    }\n",
       "\n",
       "    .dataframe tbody tr th {\n",
       "        vertical-align: top;\n",
       "    }\n",
       "</style>\n",
       "<table border=\"1\" class=\"dataframe\">\n",
       "  <thead>\n",
       "    <tr style=\"text-align: right;\">\n",
       "      <th></th>\n",
       "      <th>ПОЛЕ</th>\n",
       "      <th>ОПИСАНИЕ</th>\n",
       "    </tr>\n",
       "  </thead>\n",
       "  <tbody>\n",
       "    <tr>\n",
       "      <th>0</th>\n",
       "      <td>AGREEMENT_RK</td>\n",
       "      <td>уникальный идентификатор объекта в выборке</td>\n",
       "    </tr>\n",
       "    <tr>\n",
       "      <th>1</th>\n",
       "      <td>AGE</td>\n",
       "      <td>возраст клиента</td>\n",
       "    </tr>\n",
       "    <tr>\n",
       "      <th>2</th>\n",
       "      <td>SOCSTATUS_WORK_FL</td>\n",
       "      <td>социальный статус клиента относительно работы ...</td>\n",
       "    </tr>\n",
       "    <tr>\n",
       "      <th>3</th>\n",
       "      <td>SOCSTATUS_PENS_FL</td>\n",
       "      <td>социальный статус клиента относительно пенсии ...</td>\n",
       "    </tr>\n",
       "    <tr>\n",
       "      <th>4</th>\n",
       "      <td>GENDER</td>\n",
       "      <td>пол клиента (1- женщины, 0-мужчины)</td>\n",
       "    </tr>\n",
       "    <tr>\n",
       "      <th>5</th>\n",
       "      <td>CHILD_TOTAL</td>\n",
       "      <td>количество детей клиента</td>\n",
       "    </tr>\n",
       "    <tr>\n",
       "      <th>6</th>\n",
       "      <td>DEPENDANTS</td>\n",
       "      <td>количество иждивенцев клиента</td>\n",
       "    </tr>\n",
       "    <tr>\n",
       "      <th>7</th>\n",
       "      <td>EDUCATION</td>\n",
       "      <td>образование</td>\n",
       "    </tr>\n",
       "    <tr>\n",
       "      <th>8</th>\n",
       "      <td>MARITAL_STATUS</td>\n",
       "      <td>семейное положение</td>\n",
       "    </tr>\n",
       "    <tr>\n",
       "      <th>9</th>\n",
       "      <td>GEN_INDUSTRY</td>\n",
       "      <td>отрасль работы клиента</td>\n",
       "    </tr>\n",
       "    <tr>\n",
       "      <th>10</th>\n",
       "      <td>GEN_TITLE</td>\n",
       "      <td>должность</td>\n",
       "    </tr>\n",
       "    <tr>\n",
       "      <th>11</th>\n",
       "      <td>ORG_TP_STATE</td>\n",
       "      <td>форма собственности компании</td>\n",
       "    </tr>\n",
       "    <tr>\n",
       "      <th>12</th>\n",
       "      <td>ORG_TP_FCAPITAL</td>\n",
       "      <td>отношение к иностранному капиталу</td>\n",
       "    </tr>\n",
       "    <tr>\n",
       "      <th>13</th>\n",
       "      <td>JOB_DIR</td>\n",
       "      <td>направление деятельности в нутри компании</td>\n",
       "    </tr>\n",
       "    <tr>\n",
       "      <th>14</th>\n",
       "      <td>FAMILY_INCOME</td>\n",
       "      <td>семейный доход (несколько категорий)</td>\n",
       "    </tr>\n",
       "    <tr>\n",
       "      <th>15</th>\n",
       "      <td>PERSONAL_INCOME</td>\n",
       "      <td>личный доход клиента (в рублях)</td>\n",
       "    </tr>\n",
       "    <tr>\n",
       "      <th>16</th>\n",
       "      <td>REG_ADDRESS_PROVINCE</td>\n",
       "      <td>область регистрации клиента</td>\n",
       "    </tr>\n",
       "    <tr>\n",
       "      <th>17</th>\n",
       "      <td>FACT_ADDRESS_PROVINCE</td>\n",
       "      <td>область фактического пребывания клиента</td>\n",
       "    </tr>\n",
       "    <tr>\n",
       "      <th>18</th>\n",
       "      <td>POSTAL_ADDRESS_PROVINCE</td>\n",
       "      <td>почтовый адрес область</td>\n",
       "    </tr>\n",
       "    <tr>\n",
       "      <th>19</th>\n",
       "      <td>TP_PROVINCE</td>\n",
       "      <td>область торговой точки, где клиент брал послед...</td>\n",
       "    </tr>\n",
       "    <tr>\n",
       "      <th>20</th>\n",
       "      <td>REGION_NM</td>\n",
       "      <td>регион РФ</td>\n",
       "    </tr>\n",
       "    <tr>\n",
       "      <th>21</th>\n",
       "      <td>REG_FACT_FL</td>\n",
       "      <td>адрес регистрации и адрес фактического пребыва...</td>\n",
       "    </tr>\n",
       "    <tr>\n",
       "      <th>22</th>\n",
       "      <td>FACT_POST_FL</td>\n",
       "      <td>адрес фактического пребывания клиента и его по...</td>\n",
       "    </tr>\n",
       "    <tr>\n",
       "      <th>23</th>\n",
       "      <td>REG_POST_FL</td>\n",
       "      <td>адрес регистрации клиента и его почтовый адрес...</td>\n",
       "    </tr>\n",
       "    <tr>\n",
       "      <th>24</th>\n",
       "      <td>REG_FACT_POST_FL</td>\n",
       "      <td>почтовый, фактический и адрес регистрации совп...</td>\n",
       "    </tr>\n",
       "    <tr>\n",
       "      <th>25</th>\n",
       "      <td>REG_FACT_POST_TP_FL</td>\n",
       "      <td>область регистрации, фактического пребывания, ...</td>\n",
       "    </tr>\n",
       "    <tr>\n",
       "      <th>26</th>\n",
       "      <td>FL_PRESENCE_FL</td>\n",
       "      <td>наличие в собственности квартиры (1 - есть, 0 ...</td>\n",
       "    </tr>\n",
       "    <tr>\n",
       "      <th>27</th>\n",
       "      <td>OWN_AUTO</td>\n",
       "      <td>кол-во автомобилей в собственности</td>\n",
       "    </tr>\n",
       "    <tr>\n",
       "      <th>28</th>\n",
       "      <td>AUTO_RUS_FL</td>\n",
       "      <td>наличие в собственности автомобиля российского...</td>\n",
       "    </tr>\n",
       "    <tr>\n",
       "      <th>29</th>\n",
       "      <td>HS_PRESENCE_FL</td>\n",
       "      <td>наличие в собственности загородного дома (1 - ...</td>\n",
       "    </tr>\n",
       "    <tr>\n",
       "      <th>30</th>\n",
       "      <td>COT_PRESENCE_FL</td>\n",
       "      <td>наличие в собственности котеджа (1 - есть, 0 -...</td>\n",
       "    </tr>\n",
       "    <tr>\n",
       "      <th>31</th>\n",
       "      <td>GAR_PRESENCE_FL</td>\n",
       "      <td>наличие в собственности гаража (1 - есть, 0 - ...</td>\n",
       "    </tr>\n",
       "    <tr>\n",
       "      <th>32</th>\n",
       "      <td>LAND_PRESENCE_FL</td>\n",
       "      <td>наличие в собственности земельного участка (1 ...</td>\n",
       "    </tr>\n",
       "    <tr>\n",
       "      <th>33</th>\n",
       "      <td>CREDIT</td>\n",
       "      <td>сумма последнего кредита клиента (в рублях)</td>\n",
       "    </tr>\n",
       "    <tr>\n",
       "      <th>34</th>\n",
       "      <td>TERM</td>\n",
       "      <td>срок кредита</td>\n",
       "    </tr>\n",
       "    <tr>\n",
       "      <th>35</th>\n",
       "      <td>FST_PAYMENT</td>\n",
       "      <td>первоначальный взнос (в рублях)</td>\n",
       "    </tr>\n",
       "    <tr>\n",
       "      <th>36</th>\n",
       "      <td>DL_DOCUMENT_FL</td>\n",
       "      <td>в анкете клиент указал водительское удостовере...</td>\n",
       "    </tr>\n",
       "    <tr>\n",
       "      <th>37</th>\n",
       "      <td>GPF_DOCUMENT_FL</td>\n",
       "      <td>в анкете клиен указал ГПФ (1 - указал, 0 - не ...</td>\n",
       "    </tr>\n",
       "    <tr>\n",
       "      <th>38</th>\n",
       "      <td>FACT_LIVING_TERM</td>\n",
       "      <td>количество месяцев проживания по месту фактиче...</td>\n",
       "    </tr>\n",
       "    <tr>\n",
       "      <th>39</th>\n",
       "      <td>WORK_TIME</td>\n",
       "      <td>время работы на текущем месте (в месяцах)</td>\n",
       "    </tr>\n",
       "    <tr>\n",
       "      <th>40</th>\n",
       "      <td>FACT_PHONE_FL</td>\n",
       "      <td>наличие в заявке телефона по фактическому мест...</td>\n",
       "    </tr>\n",
       "    <tr>\n",
       "      <th>41</th>\n",
       "      <td>REG_PHONE_FL</td>\n",
       "      <td>наличие в заявке телефона по месту регистрации</td>\n",
       "    </tr>\n",
       "    <tr>\n",
       "      <th>42</th>\n",
       "      <td>GEN_PHONE_FL</td>\n",
       "      <td>наличие в заявке рабочего телефона</td>\n",
       "    </tr>\n",
       "    <tr>\n",
       "      <th>43</th>\n",
       "      <td>LOAN_NUM_TOTAL</td>\n",
       "      <td>количество ссуд клиента</td>\n",
       "    </tr>\n",
       "    <tr>\n",
       "      <th>44</th>\n",
       "      <td>LOAN_NUM_CLOSED</td>\n",
       "      <td>количество погашенных ссуд клиента</td>\n",
       "    </tr>\n",
       "    <tr>\n",
       "      <th>45</th>\n",
       "      <td>LOAN_NUM_PAYM</td>\n",
       "      <td>количество платежей, которые сделал клиент</td>\n",
       "    </tr>\n",
       "    <tr>\n",
       "      <th>46</th>\n",
       "      <td>LOAN_DLQ_NUM</td>\n",
       "      <td>количество просрочек, допущенных клиентом</td>\n",
       "    </tr>\n",
       "    <tr>\n",
       "      <th>47</th>\n",
       "      <td>LOAN_MAX_DLQ</td>\n",
       "      <td>номер максимальной просрочки, допущенной клиентом</td>\n",
       "    </tr>\n",
       "    <tr>\n",
       "      <th>48</th>\n",
       "      <td>LOAN_AVG_DLQ_AMT</td>\n",
       "      <td>средняя сумма просрочки (в рублях)</td>\n",
       "    </tr>\n",
       "    <tr>\n",
       "      <th>49</th>\n",
       "      <td>LOAN_MAX_DLQ_AMT</td>\n",
       "      <td>максимальная сумма просрочки (в рублях)</td>\n",
       "    </tr>\n",
       "    <tr>\n",
       "      <th>50</th>\n",
       "      <td>PREVIOUS_CARD_NUM_UTILIZED</td>\n",
       "      <td>количество уже утилизированных карт ( если пус...</td>\n",
       "    </tr>\n",
       "  </tbody>\n",
       "</table>\n",
       "</div>"
      ],
      "text/plain": [
       "                          ПОЛЕ  \\\n",
       "0                 AGREEMENT_RK   \n",
       "1                          AGE   \n",
       "2            SOCSTATUS_WORK_FL   \n",
       "3            SOCSTATUS_PENS_FL   \n",
       "4                       GENDER   \n",
       "5                  CHILD_TOTAL   \n",
       "6                   DEPENDANTS   \n",
       "7                    EDUCATION   \n",
       "8               MARITAL_STATUS   \n",
       "9                 GEN_INDUSTRY   \n",
       "10                   GEN_TITLE   \n",
       "11                ORG_TP_STATE   \n",
       "12             ORG_TP_FCAPITAL   \n",
       "13                     JOB_DIR   \n",
       "14               FAMILY_INCOME   \n",
       "15             PERSONAL_INCOME   \n",
       "16        REG_ADDRESS_PROVINCE   \n",
       "17       FACT_ADDRESS_PROVINCE   \n",
       "18     POSTAL_ADDRESS_PROVINCE   \n",
       "19                 TP_PROVINCE   \n",
       "20                   REGION_NM   \n",
       "21                 REG_FACT_FL   \n",
       "22                FACT_POST_FL   \n",
       "23                 REG_POST_FL   \n",
       "24            REG_FACT_POST_FL   \n",
       "25         REG_FACT_POST_TP_FL   \n",
       "26              FL_PRESENCE_FL   \n",
       "27                    OWN_AUTO   \n",
       "28                 AUTO_RUS_FL   \n",
       "29              HS_PRESENCE_FL   \n",
       "30             COT_PRESENCE_FL   \n",
       "31             GAR_PRESENCE_FL   \n",
       "32            LAND_PRESENCE_FL   \n",
       "33                      CREDIT   \n",
       "34                        TERM   \n",
       "35                 FST_PAYMENT   \n",
       "36              DL_DOCUMENT_FL   \n",
       "37             GPF_DOCUMENT_FL   \n",
       "38            FACT_LIVING_TERM   \n",
       "39                   WORK_TIME   \n",
       "40               FACT_PHONE_FL   \n",
       "41                REG_PHONE_FL   \n",
       "42                GEN_PHONE_FL   \n",
       "43              LOAN_NUM_TOTAL   \n",
       "44             LOAN_NUM_CLOSED   \n",
       "45               LOAN_NUM_PAYM   \n",
       "46                LOAN_DLQ_NUM   \n",
       "47                LOAN_MAX_DLQ   \n",
       "48            LOAN_AVG_DLQ_AMT   \n",
       "49            LOAN_MAX_DLQ_AMT   \n",
       "50  PREVIOUS_CARD_NUM_UTILIZED   \n",
       "\n",
       "                                             ОПИСАНИЕ  \n",
       "0          уникальный идентификатор объекта в выборке  \n",
       "1                                     возраст клиента  \n",
       "2   социальный статус клиента относительно работы ...  \n",
       "3   социальный статус клиента относительно пенсии ...  \n",
       "4                 пол клиента (1- женщины, 0-мужчины)  \n",
       "5                            количество детей клиента  \n",
       "6                       количество иждивенцев клиента  \n",
       "7                                         образование  \n",
       "8                                  семейное положение  \n",
       "9                              отрасль работы клиента  \n",
       "10                                          должность  \n",
       "11                       форма собственности компании  \n",
       "12                  отношение к иностранному капиталу  \n",
       "13          направление деятельности в нутри компании  \n",
       "14               семейный доход (несколько категорий)  \n",
       "15                    личный доход клиента (в рублях)  \n",
       "16                        область регистрации клиента  \n",
       "17            область фактического пребывания клиента  \n",
       "18                             почтовый адрес область  \n",
       "19  область торговой точки, где клиент брал послед...  \n",
       "20                                          регион РФ  \n",
       "21  адрес регистрации и адрес фактического пребыва...  \n",
       "22  адрес фактического пребывания клиента и его по...  \n",
       "23  адрес регистрации клиента и его почтовый адрес...  \n",
       "24  почтовый, фактический и адрес регистрации совп...  \n",
       "25  область регистрации, фактического пребывания, ...  \n",
       "26  наличие в собственности квартиры (1 - есть, 0 ...  \n",
       "27                кол-во автомобилей в собственности   \n",
       "28  наличие в собственности автомобиля российского...  \n",
       "29  наличие в собственности загородного дома (1 - ...  \n",
       "30  наличие в собственности котеджа (1 - есть, 0 -...  \n",
       "31  наличие в собственности гаража (1 - есть, 0 - ...  \n",
       "32  наличие в собственности земельного участка (1 ...  \n",
       "33        сумма последнего кредита клиента (в рублях)  \n",
       "34                                       срок кредита  \n",
       "35                    первоначальный взнос (в рублях)  \n",
       "36  в анкете клиент указал водительское удостовере...  \n",
       "37  в анкете клиен указал ГПФ (1 - указал, 0 - не ...  \n",
       "38  количество месяцев проживания по месту фактиче...  \n",
       "39          время работы на текущем месте (в месяцах)  \n",
       "40  наличие в заявке телефона по фактическому мест...  \n",
       "41     наличие в заявке телефона по месту регистрации  \n",
       "42                 наличие в заявке рабочего телефона  \n",
       "43                            количество ссуд клиента  \n",
       "44                 количество погашенных ссуд клиента  \n",
       "45         количество платежей, которые сделал клиент  \n",
       "46          количество просрочек, допущенных клиентом  \n",
       "47  номер максимальной просрочки, допущенной клиентом  \n",
       "48                 средняя сумма просрочки (в рублях)  \n",
       "49            максимальная сумма просрочки (в рублях)  \n",
       "50  количество уже утилизированных карт ( если пус...  "
      ]
     },
     "execution_count": 4,
     "metadata": {},
     "output_type": "execute_result"
    }
   ],
   "source": [
    "df_descr"
   ]
  },
  {
   "cell_type": "markdown",
   "metadata": {},
   "source": [
    "Считаем обучающую выборки и тестовую (которую мы как бы не видим)"
   ]
  },
  {
   "cell_type": "code",
   "execution_count": 4,
   "metadata": {
    "collapsed": true
   },
   "outputs": [],
   "source": [
    "df_train = pd.read_csv('data/otp_train.csv', sep='\\t', encoding='utf8')"
   ]
  },
  {
   "cell_type": "code",
   "execution_count": 5,
   "metadata": {},
   "outputs": [
    {
     "data": {
      "text/plain": [
       "(15223, 52)"
      ]
     },
     "execution_count": 5,
     "metadata": {},
     "output_type": "execute_result"
    }
   ],
   "source": [
    "df_train.shape"
   ]
  },
  {
   "cell_type": "code",
   "execution_count": 6,
   "metadata": {
    "collapsed": true
   },
   "outputs": [],
   "source": [
    "df_test = pd.read_csv('data/otp_test.csv', sep='\\t', encoding='utf8')"
   ]
  },
  {
   "cell_type": "code",
   "execution_count": 7,
   "metadata": {},
   "outputs": [
    {
     "data": {
      "text/plain": [
       "(14910, 52)"
      ]
     },
     "execution_count": 7,
     "metadata": {},
     "output_type": "execute_result"
    }
   ],
   "source": [
    "df_test.shape"
   ]
  },
  {
   "cell_type": "code",
   "execution_count": 8,
   "metadata": {},
   "outputs": [
    {
     "data": {
      "text/html": [
       "<div>\n",
       "<style>\n",
       "    .dataframe thead tr:only-child th {\n",
       "        text-align: right;\n",
       "    }\n",
       "\n",
       "    .dataframe thead th {\n",
       "        text-align: left;\n",
       "    }\n",
       "\n",
       "    .dataframe tbody tr th {\n",
       "        vertical-align: top;\n",
       "    }\n",
       "</style>\n",
       "<table border=\"1\" class=\"dataframe\">\n",
       "  <thead>\n",
       "    <tr style=\"text-align: right;\">\n",
       "      <th></th>\n",
       "      <th>AGREEMENT_RK</th>\n",
       "      <th>TARGET</th>\n",
       "      <th>AGE</th>\n",
       "      <th>SOCSTATUS_WORK_FL</th>\n",
       "      <th>SOCSTATUS_PENS_FL</th>\n",
       "      <th>GENDER</th>\n",
       "      <th>CHILD_TOTAL</th>\n",
       "      <th>DEPENDANTS</th>\n",
       "      <th>EDUCATION</th>\n",
       "      <th>MARITAL_STATUS</th>\n",
       "      <th>...</th>\n",
       "      <th>REG_PHONE_FL</th>\n",
       "      <th>GEN_PHONE_FL</th>\n",
       "      <th>LOAN_NUM_TOTAL</th>\n",
       "      <th>LOAN_NUM_CLOSED</th>\n",
       "      <th>LOAN_NUM_PAYM</th>\n",
       "      <th>LOAN_DLQ_NUM</th>\n",
       "      <th>LOAN_MAX_DLQ</th>\n",
       "      <th>LOAN_AVG_DLQ_AMT</th>\n",
       "      <th>LOAN_MAX_DLQ_AMT</th>\n",
       "      <th>PREVIOUS_CARD_NUM_UTILIZED</th>\n",
       "    </tr>\n",
       "  </thead>\n",
       "  <tbody>\n",
       "    <tr>\n",
       "      <th>0</th>\n",
       "      <td>59910150</td>\n",
       "      <td>0</td>\n",
       "      <td>49</td>\n",
       "      <td>1</td>\n",
       "      <td>0</td>\n",
       "      <td>1</td>\n",
       "      <td>2</td>\n",
       "      <td>1</td>\n",
       "      <td>Среднее специальное</td>\n",
       "      <td>Состою в браке</td>\n",
       "      <td>...</td>\n",
       "      <td>0</td>\n",
       "      <td>1</td>\n",
       "      <td>1</td>\n",
       "      <td>1</td>\n",
       "      <td>6</td>\n",
       "      <td>2</td>\n",
       "      <td>1</td>\n",
       "      <td>1580</td>\n",
       "      <td>1580</td>\n",
       "      <td>NaN</td>\n",
       "    </tr>\n",
       "    <tr>\n",
       "      <th>1</th>\n",
       "      <td>59910230</td>\n",
       "      <td>0</td>\n",
       "      <td>32</td>\n",
       "      <td>1</td>\n",
       "      <td>0</td>\n",
       "      <td>1</td>\n",
       "      <td>3</td>\n",
       "      <td>3</td>\n",
       "      <td>Среднее</td>\n",
       "      <td>Состою в браке</td>\n",
       "      <td>...</td>\n",
       "      <td>0</td>\n",
       "      <td>1</td>\n",
       "      <td>1</td>\n",
       "      <td>1</td>\n",
       "      <td>6</td>\n",
       "      <td>1</td>\n",
       "      <td>1</td>\n",
       "      <td>4020</td>\n",
       "      <td>4020</td>\n",
       "      <td>NaN</td>\n",
       "    </tr>\n",
       "    <tr>\n",
       "      <th>2</th>\n",
       "      <td>59910525</td>\n",
       "      <td>0</td>\n",
       "      <td>52</td>\n",
       "      <td>1</td>\n",
       "      <td>0</td>\n",
       "      <td>1</td>\n",
       "      <td>4</td>\n",
       "      <td>0</td>\n",
       "      <td>Неполное среднее</td>\n",
       "      <td>Состою в браке</td>\n",
       "      <td>...</td>\n",
       "      <td>0</td>\n",
       "      <td>1</td>\n",
       "      <td>2</td>\n",
       "      <td>1</td>\n",
       "      <td>11</td>\n",
       "      <td>0</td>\n",
       "      <td>0</td>\n",
       "      <td>0</td>\n",
       "      <td>0</td>\n",
       "      <td>NaN</td>\n",
       "    </tr>\n",
       "    <tr>\n",
       "      <th>3</th>\n",
       "      <td>59910803</td>\n",
       "      <td>0</td>\n",
       "      <td>39</td>\n",
       "      <td>1</td>\n",
       "      <td>0</td>\n",
       "      <td>1</td>\n",
       "      <td>1</td>\n",
       "      <td>1</td>\n",
       "      <td>Высшее</td>\n",
       "      <td>Состою в браке</td>\n",
       "      <td>...</td>\n",
       "      <td>1</td>\n",
       "      <td>1</td>\n",
       "      <td>1</td>\n",
       "      <td>1</td>\n",
       "      <td>6</td>\n",
       "      <td>3</td>\n",
       "      <td>1</td>\n",
       "      <td>1589,92333333333</td>\n",
       "      <td>1590</td>\n",
       "      <td>NaN</td>\n",
       "    </tr>\n",
       "    <tr>\n",
       "      <th>4</th>\n",
       "      <td>59911781</td>\n",
       "      <td>0</td>\n",
       "      <td>30</td>\n",
       "      <td>1</td>\n",
       "      <td>0</td>\n",
       "      <td>0</td>\n",
       "      <td>0</td>\n",
       "      <td>0</td>\n",
       "      <td>Среднее</td>\n",
       "      <td>Состою в браке</td>\n",
       "      <td>...</td>\n",
       "      <td>0</td>\n",
       "      <td>1</td>\n",
       "      <td>2</td>\n",
       "      <td>1</td>\n",
       "      <td>16</td>\n",
       "      <td>2</td>\n",
       "      <td>1</td>\n",
       "      <td>1152,15</td>\n",
       "      <td>2230</td>\n",
       "      <td>NaN</td>\n",
       "    </tr>\n",
       "  </tbody>\n",
       "</table>\n",
       "<p>5 rows × 52 columns</p>\n",
       "</div>"
      ],
      "text/plain": [
       "   AGREEMENT_RK  TARGET  AGE  SOCSTATUS_WORK_FL  SOCSTATUS_PENS_FL  GENDER  \\\n",
       "0      59910150       0   49                  1                  0       1   \n",
       "1      59910230       0   32                  1                  0       1   \n",
       "2      59910525       0   52                  1                  0       1   \n",
       "3      59910803       0   39                  1                  0       1   \n",
       "4      59911781       0   30                  1                  0       0   \n",
       "\n",
       "   CHILD_TOTAL  DEPENDANTS            EDUCATION  MARITAL_STATUS  \\\n",
       "0            2           1  Среднее специальное  Состою в браке   \n",
       "1            3           3              Среднее  Состою в браке   \n",
       "2            4           0     Неполное среднее  Состою в браке   \n",
       "3            1           1               Высшее  Состою в браке   \n",
       "4            0           0              Среднее  Состою в браке   \n",
       "\n",
       "             ...             REG_PHONE_FL GEN_PHONE_FL LOAN_NUM_TOTAL  \\\n",
       "0            ...                        0            1              1   \n",
       "1            ...                        0            1              1   \n",
       "2            ...                        0            1              2   \n",
       "3            ...                        1            1              1   \n",
       "4            ...                        0            1              2   \n",
       "\n",
       "  LOAN_NUM_CLOSED LOAN_NUM_PAYM LOAN_DLQ_NUM LOAN_MAX_DLQ  LOAN_AVG_DLQ_AMT  \\\n",
       "0               1             6            2            1              1580   \n",
       "1               1             6            1            1              4020   \n",
       "2               1            11            0            0                 0   \n",
       "3               1             6            3            1  1589,92333333333   \n",
       "4               1            16            2            1           1152,15   \n",
       "\n",
       "  LOAN_MAX_DLQ_AMT PREVIOUS_CARD_NUM_UTILIZED  \n",
       "0             1580                        NaN  \n",
       "1             4020                        NaN  \n",
       "2                0                        NaN  \n",
       "3             1590                        NaN  \n",
       "4             2230                        NaN  \n",
       "\n",
       "[5 rows x 52 columns]"
      ]
     },
     "execution_count": 8,
     "metadata": {},
     "output_type": "execute_result"
    }
   ],
   "source": [
    "df_train.head()"
   ]
  },
  {
   "cell_type": "markdown",
   "metadata": {},
   "source": [
    "## Объединим две выборки\n",
    "\n",
    "Так как пока мы пока не умеем работать sklearn  Pipeline, то для того, чтобы после предобработки столбцы в двух выборках находились на своих местах.\n",
    "\n",
    "Для того, чтобы в дальнейшем отделить их введем новый столбец \"sample\""
   ]
  },
  {
   "cell_type": "code",
   "execution_count": 9,
   "metadata": {
    "collapsed": true
   },
   "outputs": [],
   "source": [
    "df_train.loc[:, 'sample'] = 'train'\n",
    "df_test.loc[:, 'sample'] = 'test'"
   ]
  },
  {
   "cell_type": "code",
   "execution_count": 10,
   "metadata": {
    "collapsed": true
   },
   "outputs": [],
   "source": [
    "df = df_test.append(df_train).reset_index(drop=True)"
   ]
  },
  {
   "cell_type": "code",
   "execution_count": 11,
   "metadata": {},
   "outputs": [
    {
     "data": {
      "text/plain": [
       "(30133, 53)"
      ]
     },
     "execution_count": 11,
     "metadata": {},
     "output_type": "execute_result"
    }
   ],
   "source": [
    "df.shape"
   ]
  },
  {
   "cell_type": "markdown",
   "metadata": {},
   "source": [
    "### Чуть-чуть посмотрим на данные"
   ]
  },
  {
   "cell_type": "markdown",
   "metadata": {
    "collapsed": true
   },
   "source": [
    "Посмотрим типы данных и их заполняемость"
   ]
  },
  {
   "cell_type": "code",
   "execution_count": 12,
   "metadata": {
    "scrolled": false
   },
   "outputs": [
    {
     "name": "stdout",
     "output_type": "stream",
     "text": [
      "<class 'pandas.core.frame.DataFrame'>\n",
      "RangeIndex: 30133 entries, 0 to 30132\n",
      "Data columns (total 53 columns):\n",
      "AGREEMENT_RK                  30133 non-null int64\n",
      "TARGET                        30133 non-null int64\n",
      "AGE                           30133 non-null int64\n",
      "SOCSTATUS_WORK_FL             30133 non-null int64\n",
      "SOCSTATUS_PENS_FL             30133 non-null int64\n",
      "GENDER                        30133 non-null int64\n",
      "CHILD_TOTAL                   30133 non-null int64\n",
      "DEPENDANTS                    30133 non-null int64\n",
      "EDUCATION                     30133 non-null object\n",
      "MARITAL_STATUS                30133 non-null object\n",
      "GEN_INDUSTRY                  27420 non-null object\n",
      "GEN_TITLE                     27420 non-null object\n",
      "ORG_TP_STATE                  27420 non-null object\n",
      "ORG_TP_FCAPITAL               27425 non-null object\n",
      "JOB_DIR                       27420 non-null object\n",
      "FAMILY_INCOME                 30133 non-null object\n",
      "PERSONAL_INCOME               30133 non-null object\n",
      "REG_ADDRESS_PROVINCE          30133 non-null object\n",
      "FACT_ADDRESS_PROVINCE         30133 non-null object\n",
      "POSTAL_ADDRESS_PROVINCE       30133 non-null object\n",
      "TP_PROVINCE                   29543 non-null object\n",
      "REGION_NM                     30131 non-null object\n",
      "REG_FACT_FL                   30133 non-null int64\n",
      "FACT_POST_FL                  30133 non-null int64\n",
      "REG_POST_FL                   30133 non-null int64\n",
      "REG_FACT_POST_FL              30133 non-null int64\n",
      "REG_FACT_POST_TP_FL           30133 non-null int64\n",
      "FL_PRESENCE_FL                30133 non-null int64\n",
      "OWN_AUTO                      30133 non-null int64\n",
      "AUTO_RUS_FL                   30133 non-null int64\n",
      "HS_PRESENCE_FL                30133 non-null int64\n",
      "COT_PRESENCE_FL               30133 non-null int64\n",
      "GAR_PRESENCE_FL               30133 non-null int64\n",
      "LAND_PRESENCE_FL              30133 non-null int64\n",
      "CREDIT                        30133 non-null object\n",
      "TERM                          30133 non-null int64\n",
      "FST_PAYMENT                   30133 non-null object\n",
      "DL_DOCUMENT_FL                30133 non-null int64\n",
      "GPF_DOCUMENT_FL               30133 non-null int64\n",
      "FACT_LIVING_TERM              30133 non-null int64\n",
      "WORK_TIME                     27416 non-null float64\n",
      "FACT_PHONE_FL                 30133 non-null int64\n",
      "REG_PHONE_FL                  30133 non-null int64\n",
      "GEN_PHONE_FL                  30133 non-null int64\n",
      "LOAN_NUM_TOTAL                30133 non-null int64\n",
      "LOAN_NUM_CLOSED               30133 non-null int64\n",
      "LOAN_NUM_PAYM                 30133 non-null int64\n",
      "LOAN_DLQ_NUM                  30133 non-null int64\n",
      "LOAN_MAX_DLQ                  30133 non-null int64\n",
      "LOAN_AVG_DLQ_AMT              30133 non-null object\n",
      "LOAN_MAX_DLQ_AMT              30133 non-null object\n",
      "PREVIOUS_CARD_NUM_UTILIZED    600 non-null float64\n",
      "sample                        30133 non-null object\n",
      "dtypes: float64(2), int64(32), object(19)\n",
      "memory usage: 12.2+ MB\n"
     ]
    }
   ],
   "source": [
    "df.info()"
   ]
  },
  {
   "cell_type": "markdown",
   "metadata": {
    "collapsed": true
   },
   "source": [
    "Видим, что часть данных - object, скорее всего стоки.\n",
    "\n",
    "\n",
    "Давайте выведем эти значения для каждого столбца"
   ]
  },
  {
   "cell_type": "code",
   "execution_count": 14,
   "metadata": {},
   "outputs": [
    {
     "name": "stdout",
     "output_type": "stream",
     "text": [
      "==========\n",
      "EDUCATION\n",
      "\n",
      "\n",
      "==========\n",
      "MARITAL_STATUS\n",
      "\n",
      "\n",
      "==========\n",
      "GEN_INDUSTRY\n",
      "\n",
      "\n",
      "==========\n",
      "GEN_TITLE\n",
      "\n",
      "\n",
      "==========\n",
      "ORG_TP_STATE\n",
      "\n",
      "\n",
      "==========\n",
      "ORG_TP_FCAPITAL\n",
      "\n",
      "\n",
      "==========\n",
      "JOB_DIR\n",
      "\n",
      "\n",
      "==========\n",
      "FAMILY_INCOME\n",
      "\n",
      "\n",
      "==========\n",
      "PERSONAL_INCOME\n",
      "\n",
      "\n",
      "==========\n",
      "REG_ADDRESS_PROVINCE\n",
      "\n",
      "\n",
      "==========\n",
      "FACT_ADDRESS_PROVINCE\n",
      "\n",
      "\n",
      "==========\n",
      "POSTAL_ADDRESS_PROVINCE\n",
      "\n",
      "\n",
      "==========\n",
      "TP_PROVINCE\n",
      "\n",
      "\n",
      "==========\n",
      "REGION_NM\n",
      "\n",
      "\n",
      "==========\n",
      "CREDIT\n",
      "\n",
      "\n",
      "==========\n",
      "FST_PAYMENT\n",
      "\n",
      "\n",
      "==========\n",
      "LOAN_AVG_DLQ_AMT\n",
      "\n",
      "\n",
      "==========\n",
      "LOAN_MAX_DLQ_AMT\n",
      "\n",
      "\n",
      "==========\n",
      "sample\n",
      "\n",
      "\n"
     ]
    }
   ],
   "source": [
    "# EDIT: сделал функцией для дальнейших выводов при необходимости\n",
    "\n",
    "def find_obj(df, show_elements = False):\n",
    "    for i in df.columns: # перебираем все столбцы\n",
    "        if str(df[i].dtype) == 'object': # если тип столбца - object\n",
    "            print('='*10)\n",
    "            print(i)\n",
    "            if show_elements:\n",
    "                # выводим название столбца\n",
    "                print(set(df[i])) # выводим все его значения (но делаем set - чтоб значения не повторялись)\n",
    "            print('\\n') # выводим пустую строку\n",
    "            \n",
    "find_obj(df) # Не будем его значения отображать, чтобы не испортить отчет"
   ]
  },
  {
   "cell_type": "markdown",
   "metadata": {
    "collapsed": true
   },
   "source": [
    "Mожно заметить что некоторые переменные, которые обозначены как строки (например PERSONAL_INCOME) на самом деле числа, но по какой-то причине были распознаны как строки\n",
    "\n",
    "Причина же что использовалась запятая для разделения не целой части числа.."
   ]
  },
  {
   "cell_type": "markdown",
   "metadata": {},
   "source": [
    "Перекодировать их можно например так:"
   ]
  },
  {
   "cell_type": "code",
   "execution_count": 15,
   "metadata": {},
   "outputs": [
    {
     "data": {
      "text/plain": [
       "0         7000.0\n",
       "1         4100.0\n",
       "2        40000.0\n",
       "3        20000.0\n",
       "4        17000.0\n",
       "5         7000.0\n",
       "6        10000.0\n",
       "7         7500.0\n",
       "8         9000.0\n",
       "9         4000.0\n",
       "10       15000.0\n",
       "11       12000.0\n",
       "12        8000.0\n",
       "13       20000.0\n",
       "14       18500.0\n",
       "15       14000.0\n",
       "16        6000.0\n",
       "17        9000.0\n",
       "18        5000.0\n",
       "19       15000.0\n",
       "20        6100.0\n",
       "21       22180.0\n",
       "22        9000.0\n",
       "23        8700.0\n",
       "24        7000.0\n",
       "25        6000.0\n",
       "26       15000.0\n",
       "27       12000.0\n",
       "28       11000.0\n",
       "29        8000.0\n",
       "          ...   \n",
       "30103    12000.0\n",
       "30104    10000.0\n",
       "30105    10000.0\n",
       "30106     8000.0\n",
       "30107    11000.0\n",
       "30108     7000.0\n",
       "30109    10000.0\n",
       "30110     8000.0\n",
       "30111    25000.0\n",
       "30112    10000.0\n",
       "30113    12000.0\n",
       "30114     7000.0\n",
       "30115    12000.0\n",
       "30116    14500.0\n",
       "30117    12000.0\n",
       "30118     8000.0\n",
       "30119     7000.0\n",
       "30120    10000.0\n",
       "30121    10000.0\n",
       "30122    10000.0\n",
       "30123    15000.0\n",
       "30124     8100.0\n",
       "30125     9500.0\n",
       "30126    13000.0\n",
       "30127    10000.0\n",
       "30128    12000.0\n",
       "30129    10000.0\n",
       "30130     6000.0\n",
       "30131     4500.0\n",
       "30132    20000.0\n",
       "Name: PERSONAL_INCOME, Length: 30133, dtype: float64"
      ]
     },
     "execution_count": 15,
     "metadata": {},
     "output_type": "execute_result"
    }
   ],
   "source": [
    "df['PERSONAL_INCOME'].map(lambda x: x.replace(',', '.')).astype('float')"
   ]
  },
  {
   "cell_type": "markdown",
   "metadata": {},
   "source": [
    "Такой эффект наблюдается в столбцах `PERSONAL_INCOME`, `CREDIT`, `FST_PAYMENT`, `LOAN_AVG_DLQ_AMT`, `LOAN_MAX_DLQ_AMT`"
   ]
  },
  {
   "cell_type": "markdown",
   "metadata": {},
   "source": [
    "### Теперь ваше небольшое исследование"
   ]
  },
  {
   "cell_type": "markdown",
   "metadata": {
    "collapsed": true
   },
   "source": [
    "#### Задание 1. Есть ли пропуски в данных? Что с ними сделать?\n",
    "\n",
    "(единственного верного ответа нет - аргументируйте)"
   ]
  },
  {
   "cell_type": "code",
   "execution_count": 16,
   "metadata": {},
   "outputs": [
    {
     "name": "stdout",
     "output_type": "stream",
     "text": [
      "Пропущенные значения: True\n",
      "\n",
      "Пропущенные значения присутствуют в столбцах:\n",
      "* GEN_INDUSTRY\n",
      "* GEN_TITLE\n",
      "* ORG_TP_STATE\n",
      "* ORG_TP_FCAPITAL\n",
      "* JOB_DIR\n",
      "* TP_PROVINCE\n",
      "* REGION_NM\n",
      "* WORK_TIME\n",
      "* PREVIOUS_CARD_NUM_UTILIZED\n"
     ]
    }
   ],
   "source": [
    "miss_values = df.isnull().any()\n",
    "\n",
    "print('Пропущенные значения: %s\\n'%miss_values.any())\n",
    "print('Пропущенные значения присутствуют в столбцах:',*df.columns[miss_values], sep ='\\n* ')"
   ]
  },
  {
   "cell_type": "markdown",
   "metadata": {},
   "source": [
    "В зависимости от типа самого признака (категориальный или количественный) можно использовать разные методы для устранения пропусков. Самыми простыми методами являются замены пропущенных значений на моду, среднее или медиану. При этом если признак является категориальным то лучше использовать моду (чтобы избежать появления вещественных значений в категориальных признаках). Для количественных может подойти как медиана, так и среднее значение."
   ]
  },
  {
   "cell_type": "markdown",
   "metadata": {
    "collapsed": true
   },
   "source": [
    "#### Задание 2. Есть ли категориальные признаки? Что с ними делать?"
   ]
  },
  {
   "cell_type": "markdown",
   "metadata": {},
   "source": [
    "Посмотрим на наши признаки с пропущенными значениями повнимательнее.\n",
    "\n",
    "Выведем все признаки с пропусками, где укажем:\n",
    "* название признака;\n",
    "* его описание;\n",
    "* его уникальные значения."
   ]
  },
  {
   "cell_type": "code",
   "execution_count": 15,
   "metadata": {},
   "outputs": [],
   "source": [
    "# Смотреть не будем. Очень много иначе выйдет из-за Work Time и Previous Card Num Utilized\n",
    "#print('>'*5 + ' Features with missing values '+'<'*5+'\\n')\n",
    "#for feature in df.columns[miss_values]:\n",
    "    #print('Name:',feature)\n",
    "    #print('Description:',get_descr(feature))\n",
    "    #print('Values:', set(df[feature]))\n",
    "    #print('\\n'+'-'*10+'\\n')"
   ]
  },
  {
   "cell_type": "markdown",
   "metadata": {},
   "source": [
    "Все наши признаки, кроме WORK_TIME и PREVIOUS_CARD_NUM_UTILIZED, являются категориальными, что видно из их описания и значений."
   ]
  },
  {
   "cell_type": "markdown",
   "metadata": {},
   "source": [
    "**Следовательно:**\n",
    "\n",
    "1) все пропуски в категориальных признаках можно заменить на моду;\n",
    "\n",
    "2) пропуски в WORK_TIME лучше заменить на медиану (если убрать nan то можно заметить несколько выбросов, которые при использовании среднего могут дать менее надежные результаты);\n",
    "\n",
    "3) PREVIOUS_CARD_NUM_UTILIZED - здесь в принципе (если верить документации) пропуски надо заменить на 0.\n",
    "\n",
    "После устранения пропусков необходимо закодировать категориальные признаки, применяя one hot encoding, например, если признак имеет более двух принимаемых значений, т.е. не является бинарным."
   ]
  },
  {
   "cell_type": "markdown",
   "metadata": {},
   "source": [
    "#### Задание 3. Фунция предобработки"
   ]
  },
  {
   "cell_type": "markdown",
   "metadata": {},
   "source": [
    "Напишите функцию, которая бы\n",
    "\n",
    "* Удаляло идентификатор `AGREEMENT_RK`\n",
    "* Избавлялась от проблем с '.' и ',' в стобцах PERSONAL_INCOME, CREDIT, FST_PAYMENT, LOAN_AVG_DLQ_AMT, LOAN_MAX_DLQ_AMT\n",
    "* Что-то делала с пропусками\n",
    "* Кодировала категориальные признаки\n",
    "\n",
    "В результате, ваш датафрейм должен содержать только числа и не содержать пропусков!"
   ]
  },
  {
   "cell_type": "code",
   "execution_count": 17,
   "metadata": {
    "collapsed": true
   },
   "outputs": [],
   "source": [
    "def preproc_data(df_input):\n",
    "    df_output = df_input.copy()\n",
    "    \n",
    "    #(1) Drop idx AGREEMENT_RK\n",
    "    df_output.drop('AGREEMENT_RK', axis = 1, inplace = True)\n",
    "    \n",
    "    #(2) Change types from str to int\n",
    "    features = ['PERSONAL_INCOME', 'CREDIT', 'FST_PAYMENT', 'LOAN_AVG_DLQ_AMT', 'LOAN_MAX_DLQ_AMT']\n",
    "    for feature in features:\n",
    "        df_output[feature] = df_output[feature].map(lambda x: x.replace(',', '.')).astype('float')\n",
    "    \n",
    "    #(3) Miss values\n",
    "    miss_values_flag = df_output.isnull().any()\n",
    "    miss_col = df_output.columns[miss_values_flag]\n",
    "    # Определили в исследовании ранее, что посл два признака являются числовыми.\n",
    "    #miss_col_c - категориальные признаки с пропусками. Числовые пропишем вручную для читабельности\n",
    "    miss_col_c = miss_col[:-2]\n",
    "    \n",
    "    \n",
    "    ## Categorial features\n",
    "    ### Для категориальных используем моду для замены пропущенных\n",
    "    for feature in miss_col_c:\n",
    "        value = df_output[feature].mode()\n",
    "        df_output[feature].fillna(value= value[0], inplace = True)\n",
    "    \n",
    "    ## Numeric features\n",
    "    ### WORK_TIME - используем медиану для пропусков, т.к. она менее чувствительна к выбросам, а они тут есть\n",
    "    value = df_output['WORK_TIME'].median()\n",
    "    df_output['WORK_TIME'].fillna(value, inplace = True)\n",
    "    \n",
    "    ### PREVIOUS_CARD_NUM_UTILIZED - заменяем нулями, ибо это логично из описания признака\n",
    "    df_output['PREVIOUS_CARD_NUM_UTILIZED'].fillna(0, inplace = True) \n",
    "    \n",
    "    #(4) One-hot-encoding\n",
    "    columns = [i for i in df_output.columns if str(df_output[i].dtype) == 'object']\n",
    "    columns = columns[:-1] # Берем признаки кроме столбца метки выборки (обучение или тест)\n",
    "    \n",
    "    ## Извлекаем бинарный признак и вручную его кодируем (One hot encoding здесь не нужен)\n",
    "    org_tp_fcapital = columns.pop(columns.index('ORG_TP_FCAPITAL')) \n",
    "    df_output[org_tp_fcapital].replace({'С участием':1, 'Без участия':0},inplace = True)\n",
    "    \n",
    "    # Для всех остальных категориальных признаков делаем one hot encoding\n",
    "    df_output = pd.get_dummies(df_output, columns = columns)\n",
    "    \n",
    "    return df_output"
   ]
  },
  {
   "cell_type": "code",
   "execution_count": 18,
   "metadata": {
    "collapsed": true
   },
   "outputs": [],
   "source": [
    "df_preproc = df.pipe(preproc_data)\n",
    "\n",
    "df_train_preproc = df_preproc.query('sample == \"train\"').drop(['sample'], axis=1)\n",
    "df_test_preproc = df_preproc.query('sample == \"test\"').drop(['sample'], axis=1)"
   ]
  },
  {
   "cell_type": "markdown",
   "metadata": {},
   "source": [
    "#### Задание 4. Отделите целевую переменную и остальные признаки\n",
    "\n",
    "Должно получится:\n",
    "* 2 матрицы: X и X_test\n",
    "* 2 вектора: y и y_test"
   ]
  },
  {
   "cell_type": "code",
   "execution_count": 19,
   "metadata": {
    "collapsed": true
   },
   "outputs": [],
   "source": [
    "X, y = df_train_preproc.iloc[:,1:], df_train_preproc.iloc[:,0]\n",
    "X_test, y_test = df_test_preproc.iloc[:,1:],   df_test_preproc.iloc[:,0]"
   ]
  },
  {
   "cell_type": "code",
   "execution_count": 20,
   "metadata": {},
   "outputs": [
    {
     "data": {
      "text/plain": [
       "((15223, 441), (15223,))"
      ]
     },
     "execution_count": 20,
     "metadata": {},
     "output_type": "execute_result"
    }
   ],
   "source": [
    "X.shape, y.shape"
   ]
  },
  {
   "cell_type": "code",
   "execution_count": 21,
   "metadata": {},
   "outputs": [
    {
     "data": {
      "text/plain": [
       "((14910, 441), (14910,))"
      ]
     },
     "execution_count": 21,
     "metadata": {},
     "output_type": "execute_result"
    }
   ],
   "source": [
    "X_test.shape, y_test.shape"
   ]
  },
  {
   "cell_type": "markdown",
   "metadata": {},
   "source": [
    "#### Задание 5. Обучение и оценка качества разных моделей"
   ]
  },
  {
   "cell_type": "code",
   "execution_count": null,
   "metadata": {
    "collapsed": true
   },
   "outputs": [],
   "source": [
    "from sklearn.cross_validation import train_test_split\n",
    "# test_size=0.3, random_state=42\n",
    "\n",
    "# Зачем это если у нас уже есть все матрицы?\n",
    "\n",
    "## Your Code Here\n"
   ]
  },
  {
   "cell_type": "code",
   "execution_count": 22,
   "metadata": {},
   "outputs": [
    {
     "name": "stderr",
     "output_type": "stream",
     "text": [
      "C:\\Users\\1096467\\Anaconda3\\lib\\site-packages\\sklearn\\linear_model\\base.py:340: RuntimeWarning: overflow encountered in exp\n",
      "  np.exp(prob, prob)\n"
     ]
    }
   ],
   "source": [
    "# Попробовать следующие \"черные ящики\": интерфейс одинаковый \n",
    "# Постепенно мы узнаем, что они делают а сейчас учимся понимать какой работает качественнее\n",
    "#     fit, \n",
    "#     predict, \n",
    "#     predict_proba\n",
    "\n",
    "from sklearn.tree import DecisionTreeClassifier\n",
    "from sklearn.ensemble import RandomForestClassifier\n",
    "from sklearn.linear_model import LogisticRegression\n",
    "\n",
    "# Раз интерфейс одинаковый, то можно создать функцию\n",
    "def black_box(model,X_train,X_test,y_train, y_test):\n",
    "    clf = model\n",
    "    clf.fit(X_train, y_train)\n",
    "    labels = clf.predict(X_train)\n",
    "    proba = clf.predict_proba(X_train)\n",
    "    return labels, proba\n",
    "\n",
    "# Список наших алгоритмов\n",
    "clf_all = [DecisionTreeClassifier(),\n",
    "           RandomForestClassifier(),\n",
    "           LogisticRegression()]\n",
    "\n",
    "# Ответы для лейблов и вероятностей\n",
    "answers_l = {}\n",
    "answers_p = {}\n",
    "\n",
    "# Запускаем наши черные ящики\n",
    "for clf in clf_all:\n",
    "    l,p = black_box(clf, X, X_test, y, y_test)\n",
    "    answers_l[clf.__class__.__name__] = l\n",
    "    answers_p[clf.__class__.__name__] = p"
   ]
  },
  {
   "cell_type": "code",
   "execution_count": 23,
   "metadata": {},
   "outputs": [
    {
     "data": {
      "text/html": [
       "<div>\n",
       "<style>\n",
       "    .dataframe thead tr:only-child th {\n",
       "        text-align: right;\n",
       "    }\n",
       "\n",
       "    .dataframe thead th {\n",
       "        text-align: left;\n",
       "    }\n",
       "\n",
       "    .dataframe tbody tr th {\n",
       "        vertical-align: top;\n",
       "    }\n",
       "</style>\n",
       "<table border=\"1\" class=\"dataframe\">\n",
       "  <thead>\n",
       "    <tr style=\"text-align: right;\">\n",
       "      <th></th>\n",
       "      <th>DecisionTreeClassifier</th>\n",
       "      <th>LogisticRegression</th>\n",
       "      <th>RandomForestClassifier</th>\n",
       "    </tr>\n",
       "  </thead>\n",
       "  <tbody>\n",
       "    <tr>\n",
       "      <th>accuracy_score</th>\n",
       "      <td>1.0</td>\n",
       "      <td>0.880510</td>\n",
       "      <td>0.979570</td>\n",
       "    </tr>\n",
       "    <tr>\n",
       "      <th>precision_score</th>\n",
       "      <td>1.0</td>\n",
       "      <td>0.315789</td>\n",
       "      <td>1.000000</td>\n",
       "    </tr>\n",
       "    <tr>\n",
       "      <th>recall_score</th>\n",
       "      <td>1.0</td>\n",
       "      <td>0.003311</td>\n",
       "      <td>0.828366</td>\n",
       "    </tr>\n",
       "  </tbody>\n",
       "</table>\n",
       "</div>"
      ],
      "text/plain": [
       "                 DecisionTreeClassifier  LogisticRegression  \\\n",
       "accuracy_score                      1.0            0.880510   \n",
       "precision_score                     1.0            0.315789   \n",
       "recall_score                        1.0            0.003311   \n",
       "\n",
       "                 RandomForestClassifier  \n",
       "accuracy_score                 0.979570  \n",
       "precision_score                1.000000  \n",
       "recall_score                   0.828366  "
      ]
     },
     "execution_count": 23,
     "metadata": {},
     "output_type": "execute_result"
    }
   ],
   "source": [
    "# Посчитать метрики стандартные\n",
    "# accuracy, precision, recall\n",
    "\n",
    "from sklearn.metrics import accuracy_score, precision_score, recall_score\n",
    "\n",
    "# Список наших метрик\n",
    "estimates = [accuracy_score, precision_score,recall_score]\n",
    "\n",
    "# Будущий словарь со значением метрик для классификатора\n",
    "df_est = {}\n",
    "\n",
    "for clf, label in answers_l.items():\n",
    "    metrics = []\n",
    "    for estimate in estimates:\n",
    "        result = estimate(y_true = y, \n",
    "                          y_pred = label)\n",
    "        metrics.append(result)\n",
    "    df_est[clf] = metrics\n",
    "\n",
    "# Для красоты и удобства сделаем датафрейм\n",
    "df_est = pd.DataFrame(df_est, index = [estimate.__name__ for estimate in estimates])\n",
    "df_est"
   ]
  },
  {
   "cell_type": "code",
   "execution_count": 24,
   "metadata": {},
   "outputs": [
    {
     "data": {
      "text/plain": [
       "<matplotlib.axes._subplots.AxesSubplot at 0x228e842c2e8>"
      ]
     },
     "execution_count": 24,
     "metadata": {},
     "output_type": "execute_result"
    },
    {
     "data": {
      "image/png": "[encoded data removed]",
      "text/plain": [
       "<matplotlib.figure.Figure at 0x228e843dac8>"
      ]
     },
     "metadata": {},
     "output_type": "display_data"
    }
   ],
   "source": [
    "# Визуалищировать эти метрики всех моделей на одном графике (чтоб визуально сравнить)\n",
    "# Возможно вас удивит качество! Но задача подобрана специально ;) Такое качество тоже бывает\n",
    "\n",
    "df_est.plot()"
   ]
  },
  {
   "cell_type": "code",
   "execution_count": 25,
   "metadata": {},
   "outputs": [
    {
     "name": "stdout",
     "output_type": "stream",
     "text": [
      "DecisionTreeClassifier: 1.000\n",
      "RandomForestClassifier: 1.000\n",
      "LogisticRegression: 0.698\n"
     ]
    },
    {
     "data": {
      "image/png": "[encoded data removed]",
      "text/plain": [
       "<matplotlib.figure.Figure at 0x228e5b08710>"
      ]
     },
     "metadata": {},
     "output_type": "display_data"
    }
   ],
   "source": [
    "# Потроить roc-кривые всех можелей на одном графике\n",
    "# Вывести roc_auc каждой моделе\n",
    "# Подпишите оси и линии\n",
    "from sklearn.metrics import roc_auc_score, roc_curve\n",
    "\n",
    "for clf, proba in answers_p.items(): print('%s: %.3f'%(clf,roc_auc_score(y, proba[:,1])))\n",
    "\n",
    "for clf, proba in answers_p.items():\n",
    "    fpr, tpr, thresholds = roc_curve(y, proba[:,1])\n",
    "    plt.plot(fpr, tpr, label = clf)\n",
    "    plt.plot([0, 1], [0, 1])\n",
    "    plt.ylabel('tpr')\n",
    "    plt.xlabel('fpr')\n",
    "    plt.grid(True)\n",
    "    plt.title('ROC curve') \n",
    "    plt.xlim((-0.01, 1.01))\n",
    "    plt.ylim((-0.01, 1.01))\n",
    "    plt.legend()"
   ]
  },
  {
   "cell_type": "code",
   "execution_count": 26,
   "metadata": {},
   "outputs": [
    {
     "name": "stderr",
     "output_type": "stream",
     "text": [
      "C:\\Users\\1096467\\Anaconda3\\lib\\site-packages\\sklearn\\cross_validation.py:41: DeprecationWarning: This module was deprecated in version 0.18 in favor of the model_selection module into which all the refactored classes and functions are moved. Also note that the interface of the new CV iterators are different from that of this module. This module will be removed in 0.20.\n",
      "  \"This module will be removed in 0.20.\", DeprecationWarning)\n"
     ]
    },
    {
     "name": "stdout",
     "output_type": "stream",
     "text": [
      "DecisionTreeClassifier: 0.532\n",
      "RandomForestClassifier: 0.600\n",
      "LogisticRegression: 0.642\n"
     ]
    }
   ],
   "source": [
    "from sklearn.cross_validation import cross_val_score\n",
    "import numpy as np\n",
    "# Сделать k-fold (10 фолдов) кросс-валидацию каждой модели\n",
    "# И посчитать средний roc_auc\n",
    "\n",
    "for clf in clf_all:\n",
    "    score = cross_val_score(clf, X, y, scoring='roc_auc', cv=10)\n",
    "    print('%s: %.3f'%(clf.__class__.__name__, np.mean(score)))"
   ]
  },
  {
   "cell_type": "code",
   "execution_count": 27,
   "metadata": {},
   "outputs": [
    {
     "name": "stdout",
     "output_type": "stream",
     "text": [
      "[[ 0.91764887  0.08235113]\n",
      " [ 0.95512995  0.04487005]\n",
      " [ 0.87271853  0.12728147]\n",
      " ..., \n",
      " [ 0.89109211  0.10890789]\n",
      " [ 0.90970881  0.09029119]\n",
      " [ 0.85242088  0.14757912]]\n"
     ]
    },
    {
     "name": "stderr",
     "output_type": "stream",
     "text": [
      "C:\\Users\\1096467\\Anaconda3\\lib\\site-packages\\sklearn\\linear_model\\base.py:340: RuntimeWarning: overflow encountered in exp\n",
      "  np.exp(prob, prob)\n"
     ]
    }
   ],
   "source": [
    "# Взять лучшую модель и сделать предсказания (с вероятностями (!!!)) для test выборки\n",
    "clf = LogisticRegression()\n",
    "clf.fit(X,y)\n",
    "predict = clf.predict_proba(X_test)\n",
    "print(predict)\n",
    "## Your Code Here"
   ]
  },
  {
   "cell_type": "code",
   "execution_count": 28,
   "metadata": {},
   "outputs": [
    {
     "name": "stdout",
     "output_type": "stream",
     "text": [
      "LogisticRegression:0.6821\n"
     ]
    },
    {
     "data": {
      "image/png": "[encoded data removed]",
      "text/plain": [
       "<matplotlib.figure.Figure at 0x228f01bbfd0>"
      ]
     },
     "metadata": {},
     "output_type": "display_data"
    }
   ],
   "source": [
    "# Померить roc_auc на тесте\n",
    "# Вывести текстом и на графике =)\n",
    "\n",
    "fpr, tpr, thresholds = roc_curve(y_test, predict[:,1])\n",
    "plt.plot(fpr, tpr, label = 'LogRegression')\n",
    "plt.plot([0, 1], [0, 1])\n",
    "plt.ylabel('tpr')\n",
    "plt.xlabel('fpr')\n",
    "plt.grid(True)\n",
    "plt.title('ROC curve') \n",
    "plt.xlim((-0.01, 1.01))\n",
    "plt.ylim((-0.01, 1.01))\n",
    "plt.legend()\n",
    "\n",
    "\n",
    "score = roc_auc_score(y_test, predict[:,1])\n",
    "print('LogisticRegression:%.4f'%score)"
   ]
  },
  {
   "cell_type": "markdown",
   "metadata": {},
   "source": [
    "### Больше обязательных заданий нет, но ниже вы можете провести исследование, поиграться с данными\n",
    "### Это возможность написать код, который я посмотрю и в случае чего откомметирую. ;)\n",
    "### Это не оценивается и остается на ваше усмотрение. Просто дополнительная возможность"
   ]
  },
  {
   "cell_type": "code",
   "execution_count": null,
   "metadata": {
    "collapsed": true
   },
   "outputs": [],
   "source": [
    "### И далее ;)"
   ]
  }
 ],
 "metadata": {
  "anaconda-cloud": {},
  "kernelspec": {
   "display_name": "Python 3",
   "language": "python",
   "name": "python3"
  },
  "language_info": {
   "codemirror_mode": {
    "name": "ipython",
    "version": 3
   },
   "file_extension": ".py",
   "mimetype": "text/x-python",
   "name": "python",
   "nbconvert_exporter": "python",
   "pygments_lexer": "ipython3",
   "version": "3.6.3"
  },
  "toc": {
   "base_numbering": 1,
   "nav_menu": {
    "height": "31px",
    "width": "253px"
   },
   "number_sections": false,
   "sideBar": true,
   "skip_h1_title": false,
   "title_cell": "Table of Contents",
   "title_sidebar": "Contents",
   "toc_cell": false,
   "toc_position": {},
   "toc_section_display": "block",
   "toc_window_display": false
  }
 },
 "nbformat": 4,
 "nbformat_minor": 2
}
